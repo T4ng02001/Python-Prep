{
 "cells": [
  {
   "attachments": {},
   "cell_type": "markdown",
   "metadata": {},
   "source": [
    "## Flujos de Control"
   ]
  },
  {
   "attachments": {},
   "cell_type": "markdown",
   "metadata": {},
   "source": [
    "1) Crear una variable que contenga un elemento del conjunto de números enteros y luego imprimir por pantalla si es mayor o menor a cero"
   ]
  },
  {
   "cell_type": "code",
   "execution_count": null,
   "metadata": {},
   "outputs": [
    {
     "name": "stdout",
     "output_type": "stream",
     "text": [
      "a es mayor a 0\n"
     ]
    }
   ],
   "source": [
    "a = 4\n",
    "if (a < 0):\n",
    "    print(\"a es menor a cero\")\n",
    "elif (a == 0):\n",
    "    print(\"a es igual que cero\")\n",
    "else:\n",
    "    print(\"a es > a cero\")"
   ]
  },
  {
   "attachments": {},
   "cell_type": "markdown",
   "metadata": {},
   "source": [
    "2) Crear dos variables y un condicional que informe si son del mismo tipo de dato"
   ]
  },
  {
   "cell_type": "code",
   "execution_count": 4,
   "metadata": {},
   "outputs": [
    {
     "name": "stdout",
     "output_type": "stream",
     "text": [
      "son distintos\n"
     ]
    }
   ],
   "source": [
    "a = 5\n",
    "b = \"5\"\n",
    "if (type(a)== type(b)):\n",
    "    print(\"son iguales\")\n",
    "else:\n",
    "    print(\"son distintos\")\n",
    "\n"
   ]
  },
  {
   "attachments": {},
   "cell_type": "markdown",
   "metadata": {},
   "source": [
    "3) Para los valores enteros del 1 al 20, imprimir por pantalla si es par o impar"
   ]
  },
  {
   "cell_type": "code",
   "execution_count": 9,
   "metadata": {},
   "outputs": [
    {
     "name": "stdout",
     "output_type": "stream",
     "text": [
      " El numero 1  es impar\n",
      " El numero 2  es par\n",
      " El numero 3  es impar\n",
      " El numero 4  es par\n",
      " El numero 5  es impar\n",
      " El numero 6  es par\n",
      " El numero 7  es impar\n",
      " El numero 8  es par\n",
      " El numero 9  es impar\n",
      " El numero 10  es par\n",
      " El numero 11  es impar\n",
      " El numero 12  es par\n",
      " El numero 13  es impar\n",
      " El numero 14  es par\n",
      " El numero 15  es impar\n",
      " El numero 16  es par\n",
      " El numero 17  es impar\n",
      " El numero 18  es par\n",
      " El numero 19  es impar\n",
      " El numero 20  es par\n"
     ]
    }
   ],
   "source": [
    "for i in range (1, 21):\n",
    "    if i % 2 == 0:\n",
    "        print(\" El numero\", i, \" es par\")\n",
    "    elif i % 2 != 0:\n",
    "        print(f\" El numero\", i, \" es impar\")"
   ]
  },
  {
   "cell_type": "code",
   "execution_count": 15,
   "metadata": {},
   "outputs": [
    {
     "name": "stdout",
     "output_type": "stream",
     "text": [
      " El numero 1 es impar\n",
      " El numero 2  es par\n",
      " El numero 3 es impar\n",
      " El numero 4  es par\n",
      " El numero 5 es impar\n",
      " El numero 6  es par\n",
      " El numero 7 es impar\n",
      " El numero 8  es par\n",
      " El numero 9 es impar\n",
      " El numero 10  es par\n",
      " El numero 11 es impar\n",
      " El numero 12  es par\n",
      " El numero 13 es impar\n",
      " El numero 14  es par\n",
      " El numero 15 es impar\n",
      " El numero 16  es par\n",
      " El numero 17 es impar\n",
      " El numero 18  es par\n",
      " El numero 19 es impar\n",
      " El numero 20  es par\n"
     ]
    }
   ],
   "source": [
    "num = 1\n",
    "while(num <= 20):\n",
    "    if num % 2 == 0:\n",
    "        print(\" El numero\", num, \" es par\")\n",
    "    else:\n",
    "        print(f\" El numero {num} es impar\")\n",
    "    num += 1\n",
    "    \n"
   ]
  },
  {
   "attachments": {},
   "cell_type": "markdown",
   "metadata": {},
   "source": [
    "4) En un ciclo for mostrar para los valores entre 0 y 5 el resultado de elevarlo a la potencia igual a 3"
   ]
  },
  {
   "cell_type": "code",
   "execution_count": 17,
   "metadata": {},
   "outputs": [
    {
     "name": "stdout",
     "output_type": "stream",
     "text": [
      "0 0\n",
      "1 1\n",
      "2 8\n",
      "3 27\n",
      "4 64\n",
      "5 125\n"
     ]
    }
   ],
   "source": [
    "for i in range (0,6):\n",
    "     print(i, i ** 3)"
   ]
  },
  {
   "attachments": {},
   "cell_type": "markdown",
   "metadata": {},
   "source": [
    "5) Crear una variable que contenga un número entero y realizar un ciclo for la misma cantidad de ciclos"
   ]
  },
  {
   "cell_type": "code",
   "execution_count": 5,
   "metadata": {},
   "outputs": [
    {
     "name": "stdout",
     "output_type": "stream",
     "text": [
      "5\n"
     ]
    }
   ],
   "source": [
    "num = 5\n",
    "for i in range (1, num + 1):\n",
    "    pass \n",
    "print(i)\n"
   ]
  },
  {
   "cell_type": "code",
   "execution_count": 19,
   "metadata": {},
   "outputs": [
    {
     "name": "stdout",
     "output_type": "stream",
     "text": [
      "0\n",
      "1\n",
      "2\n",
      "3\n"
     ]
    }
   ],
   "source": [
    "num = 4\n",
    "for i in range (0, num):\n",
    "    pass \n",
    "print(i)"
   ]
  },
  {
   "attachments": {},
   "cell_type": "markdown",
   "metadata": {},
   "source": [
    "6) Utilizar un ciclo while para realizar el factorial de un número guardado en una variable, sólo si la variable contiene un número entero mayor a 0"
   ]
  },
  {
   "cell_type": "code",
   "execution_count": 16,
   "metadata": {},
   "outputs": [
    {
     "name": "stdout",
     "output_type": "stream",
     "text": [
      "El factorial es 24\n"
     ]
    }
   ],
   "source": [
    "n = 4\n",
    "if (type(n) == int): # verifico si es entero\n",
    "    if(n > 0):          # Verifico que sea mayor a cero para la funcion\n",
    "        factorial = n \n",
    "        while (n > 2):\n",
    "            n -= 1 \n",
    "            factorial *= n \n",
    "        print (\"El factorial es\", factorial)\n",
    "    else:\n",
    "        print(\"La variable no es mayor a 0\")\n",
    "else:\n",
    "        print(\"La variable no es un entero\")\n",
    "\n",
    "\n",
    "\n",
    "\n"
   ]
  },
  {
   "cell_type": "code",
   "execution_count": 15,
   "metadata": {},
   "outputs": [
    {
     "name": "stdout",
     "output_type": "stream",
     "text": [
      "El factorial de 2 es : 3\n",
      "El factorial de 1 es : 6\n"
     ]
    }
   ],
   "source": [
    "def factorial(n):\n",
    "    if isinstance(n, int) and n > 0:\n",
    "        resultado = 1\n",
    "        while n > 1:\n",
    "            resultado *= n\n",
    "            n -= 1\n",
    "            print(f\"El factorial de {n} es : {resultado}\")\n",
    "    else:\n",
    "        print(\"El numero debe ser un entero mayor a 0\")        \n",
    "factorial(3)\n"
   ]
  },
  {
   "attachments": {},
   "cell_type": "markdown",
   "metadata": {},
   "source": [
    "\n",
    "7) Crear un ciclo for dentro de un ciclo while"
   ]
  },
  {
   "cell_type": "code",
   "execution_count": 19,
   "metadata": {},
   "outputs": [
    {
     "name": "stdout",
     "output_type": "stream",
     "text": [
      "0\n",
      "0\n",
      "1\n",
      "0\n",
      "1\n",
      "2\n"
     ]
    }
   ],
   "source": [
    "n = 1\n",
    "while n < 4: \n",
    "    for i in range(0, n):\n",
    "        print(i)\n",
    "    n += 1\n",
    "\n"
   ]
  },
  {
   "cell_type": "code",
   "execution_count": 29,
   "metadata": {},
   "outputs": [
    {
     "name": "stdout",
     "output_type": "stream",
     "text": [
      "5\n",
      "0\n",
      "5\n",
      "1\n",
      "5\n",
      "2\n",
      "5\n",
      "3\n",
      "5\n",
      "4\n",
      "5\n",
      "1\n",
      "5\n",
      "2\n",
      "5\n",
      "3\n",
      "5\n",
      "4\n",
      "5\n",
      "2\n",
      "5\n",
      "3\n",
      "5\n",
      "4\n",
      "5\n",
      "3\n",
      "5\n",
      "4\n",
      "5\n",
      "4\n"
     ]
    }
   ],
   "source": []
  },
  {
   "attachments": {},
   "cell_type": "markdown",
   "metadata": {},
   "source": [
    "8) Crear un ciclo while dentro de un ciclo for"
   ]
  },
  {
   "cell_type": "code",
   "execution_count": null,
   "metadata": {},
   "outputs": [],
   "source": [
    "n = 5\n",
    "for i in range(0, n):\n",
    "    while( i < 5):\n",
    "                print(n)\n",
    "                print(i)\n",
    "                i += 1\n"
   ]
  },
  {
   "cell_type": "code",
   "execution_count": null,
   "metadata": {},
   "outputs": [],
   "source": [
    "for num in range(1, 10):\n",
    "    while num < 6:\n",
    "        print(num)"
   ]
  },
  {
   "attachments": {},
   "cell_type": "markdown",
   "metadata": {},
   "source": [
    "9) Imprimir los números primos existentes entre 0 y 30"
   ]
  },
  {
   "cell_type": "code",
   "execution_count": 30,
   "metadata": {},
   "outputs": [
    {
     "name": "stdout",
     "output_type": "stream",
     "text": [
      "2 Es primo\n",
      "3 Es primo\n",
      "5 Es primo\n",
      "7 Es primo\n",
      "11 Es primo\n",
      "13 Es primo\n",
      "17 Es primo\n",
      "19 Es primo\n",
      "23 Es primo\n",
      "29 Es primo\n"
     ]
    }
   ],
   "source": [
    "for num in range(2, 31):\n",
    "    es_primo = True\n",
    "    for i in range(2, num):\n",
    "        if num % i == 0: \n",
    "            es_primo = False\n",
    "    if es_primo:\n",
    "        print(num, \"Es primo\")"
   ]
  },
  {
   "cell_type": "code",
   "execution_count": 34,
   "metadata": {},
   "outputs": [
    {
     "name": "stdout",
     "output_type": "stream",
     "text": [
      "2\n",
      "3\n",
      "5\n",
      "7\n",
      "11\n",
      "13\n",
      "17\n",
      "19\n",
      "23\n",
      "29\n"
     ]
    }
   ],
   "source": [
    "tope = 30\n",
    "n = 2\n",
    "primo = True\n",
    "while n < tope:\n",
    "    for i in range (2, n):\n",
    "        if n % i == 0:\n",
    "            primo = False\n",
    "    if primo:\n",
    "        print(n)\n",
    "    else:\n",
    "        primo = True\n",
    "    n += 1\n",
    "\n",
    "\n",
    "\n",
    "\n"
   ]
  },
  {
   "attachments": {},
   "cell_type": "markdown",
   "metadata": {},
   "source": [
    "10) ¿Se puede mejorar el proceso del punto 9? Utilizar las sentencias break y/ó continue para tal fin"
   ]
  },
  {
   "cell_type": "code",
   "execution_count": null,
   "metadata": {},
   "outputs": [],
   "source": [
    "tope = 30\n",
    "n = 2\n",
    "primo = True\n",
    "while n < tope:\n",
    "    for i in range (2, n):\n",
    "        if n % i == 0:\n",
    "            primo = False\n",
    "            break\n",
    "    if primo:\n",
    "        print(n)\n",
    "    else:\n",
    "        primo = True\n",
    "    n += 1"
   ]
  },
  {
   "cell_type": "code",
   "execution_count": null,
   "metadata": {},
   "outputs": [],
   "source": [
    "for num in range(2, 31):\n",
    "    es_primo = True\n",
    "    for i in range(2, num):\n",
    "        if num % i == 0: \n",
    "            es_primo = False\n",
    "            break\n",
    "    if es_primo:\n",
    "        print(num, \"Es primo\")\n",
    "           "
   ]
  },
  {
   "attachments": {},
   "cell_type": "markdown",
   "metadata": {},
   "source": [
    "11) En los puntos 9 y 10, se diseño un código que encuentra números primos y además se lo optimizó. ¿Es posible saber en qué medida se optimizó?"
   ]
  },
  {
   "cell_type": "code",
   "execution_count": 35,
   "metadata": {},
   "outputs": [
    {
     "name": "stdout",
     "output_type": "stream",
     "text": [
      "2\n",
      "3\n",
      "5\n",
      "7\n",
      "11\n",
      "13\n",
      "17\n",
      "19\n",
      "23\n",
      "29\n",
      "134\n"
     ]
    }
   ],
   "source": [
    "ciclos_break = 0\n",
    "tope = 30\n",
    "n = 2\n",
    "primo = True\n",
    "while n < tope:\n",
    "    for i in range (2, n):\n",
    "        ciclos_break += 1\n",
    "        if n % i == 0:\n",
    "            primo = False\n",
    "            break\n",
    "    if primo:\n",
    "        print(n)\n",
    "    else:\n",
    "        primo = True\n",
    "    n += 1\n",
    "print(ciclos_break)\n"
   ]
  },
  {
   "cell_type": "code",
   "execution_count": 36,
   "metadata": {},
   "outputs": [
    {
     "name": "stdout",
     "output_type": "stream",
     "text": [
      "2\n",
      "3\n",
      "5\n",
      "7\n",
      "11\n",
      "13\n",
      "17\n",
      "19\n",
      "23\n",
      "29\n",
      "378\n"
     ]
    }
   ],
   "source": [
    "ciclos_nobreak = 0\n",
    "tope = 30\n",
    "n = 2\n",
    "primo = True\n",
    "while n < tope:\n",
    "    for i in range (2, n):\n",
    "        ciclos_nobreak += 1\n",
    "        if n % i == 0:\n",
    "            primo = False\n",
    "    if primo:\n",
    "        print(n)\n",
    "    else:\n",
    "        primo = True\n",
    "    n += 1\n",
    "print(ciclos_nobreak)\n"
   ]
  },
  {
   "attachments": {},
   "cell_type": "markdown",
   "metadata": {},
   "source": [
    "12) Aplicando continue, armar un ciclo while que solo imprima los valores divisibles por 12, dentro del rango de números de 100 a 300"
   ]
  },
  {
   "cell_type": "code",
   "execution_count": 41,
   "metadata": {},
   "outputs": [
    {
     "name": "stdout",
     "output_type": "stream",
     "text": [
      "108\n",
      "120\n",
      "132\n",
      "144\n",
      "156\n",
      "168\n",
      "180\n",
      "192\n",
      "204\n",
      "216\n",
      "228\n",
      "240\n",
      "252\n",
      "264\n",
      "276\n",
      "288\n",
      "300\n"
     ]
    }
   ],
   "source": [
    "n = 99\n",
    "while n <= 300:\n",
    "    n += 1 # que aumente el numero en uno y pase a siguiente\n",
    "    if n % 12 != 0:\n",
    "        continue\n",
    "    print(n)\n",
    "    \n",
    "\n",
    "    "
   ]
  },
  {
   "cell_type": "markdown",
   "metadata": {},
   "source": []
  },
  {
   "attachments": {},
   "cell_type": "markdown",
   "metadata": {},
   "source": [
    "13) Utilizar la función **input()** que permite hacer ingresos por teclado, para encontrar números primos y dar la opción al usario de buscar el siguiente"
   ]
  },
  {
   "cell_type": "code",
   "execution_count": 42,
   "metadata": {},
   "outputs": [
    {
     "name": "stdout",
     "output_type": "stream",
     "text": [
      "Diana\n"
     ]
    }
   ],
   "source": [
    "name = input(\"Tu nombre es:\")\n",
    "print(name)"
   ]
  },
  {
   "cell_type": "code",
   "execution_count": 46,
   "metadata": {},
   "outputs": [
    {
     "name": "stdout",
     "output_type": "stream",
     "text": [
      "2\n"
     ]
    }
   ],
   "source": [
    "\n",
    "tope = 30\n",
    "n = 2\n",
    "primo = True\n",
    "while n < tope:\n",
    "    for i in range (2, n):\n",
    "        if n % i == 0:\n",
    "            primo = False\n",
    "            break\n",
    "    if primo:\n",
    "        print(n)\n",
    "        siguiente = input(\" Siguiente primo\")\n",
    "        if siguiente != \"si\":\n",
    "            break\n",
    "    else:\n",
    "        primo = True\n",
    "    n += 1"
   ]
  },
  {
   "cell_type": "code",
   "execution_count": 51,
   "metadata": {},
   "outputs": [
    {
     "name": "stdout",
     "output_type": "stream",
     "text": [
      "1\n"
     ]
    }
   ],
   "source": [
    "tope = int(input(\"¿Rango de numeros primos quieres conseguir?\"))\n",
    "n = 1\n",
    "primo = True\n",
    "while n <= tope:\n",
    "    for i in range (2, n):\n",
    "        if n % i == 0:\n",
    "            primo = False\n",
    "            break\n",
    "    if primo:\n",
    "        print(n)\n",
    "        siguiente = input(\" Siguiente primo\")\n",
    "        if siguiente != \"si\":\n",
    "            break\n",
    "    else:\n",
    "        primo = True\n",
    "    n += 1"
   ]
  },
  {
   "attachments": {},
   "cell_type": "markdown",
   "metadata": {},
   "source": [
    "14) Crear un ciclo while que encuentre dentro del rango de 100 a 300 el primer número divisible por 3 y además múltiplo de 6"
   ]
  },
  {
   "cell_type": "code",
   "execution_count": 52,
   "metadata": {},
   "outputs": [
    {
     "name": "stdout",
     "output_type": "stream",
     "text": [
      "102\n"
     ]
    }
   ],
   "source": [
    "n = 99\n",
    "while n <= 300:\n",
    "    n += 1 # que aumente el numero en uno y pase a siguiente\n",
    "    if n % 6 == 0 and n % 3 == 0:\n",
    "        print(n)\n",
    "        break"
   ]
  }
 ],
 "metadata": {
  "interpreter": {
   "hash": "c85384e4cb51c8b72350f3a8712cc8351fdc3955e32a27f9b60c6242ab125f01"
  },
  "kernelspec": {
   "display_name": "Python 3 (ipykernel)",
   "language": "python",
   "name": "python3"
  },
  "language_info": {
   "codemirror_mode": {
    "name": "ipython",
    "version": 3
   },
   "file_extension": ".py",
   "mimetype": "text/x-python",
   "name": "python",
   "nbconvert_exporter": "python",
   "pygments_lexer": "ipython3",
   "version": "3.11.8"
  }
 },
 "nbformat": 4,
 "nbformat_minor": 4
}
