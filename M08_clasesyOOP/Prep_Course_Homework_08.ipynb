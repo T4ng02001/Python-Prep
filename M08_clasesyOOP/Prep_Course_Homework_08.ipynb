{
 "cells": [
  {
   "attachments": {},
   "cell_type": "markdown",
   "metadata": {},
   "source": [
    "## Clases y Programación Orientada a Objetos"
   ]
  },
  {
   "attachments": {},
   "cell_type": "markdown",
   "metadata": {},
   "source": [
    "1) Crear la clase vehículo que contenga los atributos:<br>\n",
    "Color<br>\n",
    "Si es moto, auto, camioneta ó camión<br>\n",
    "Cilindrada del motor"
   ]
  },
  {
   "cell_type": "code",
   "execution_count": 17,
   "metadata": {},
   "outputs": [],
   "source": [
    "class Vehiculo:\n",
    "    def __init__ (self, color, tipo, cilindrada):\n",
    "        self.color = color\n",
    "        self.tipo = tipo\n",
    "        self.cilindrada = cilindrada\n",
    "        \n"
   ]
  },
  {
   "attachments": {},
   "cell_type": "markdown",
   "metadata": {},
   "source": [
    "2) A la clase Vehiculo creada en el punto 1, agregar los siguientes métodos:<br>\n",
    "Acelerar<br>\n",
    "Frenar<br>\n",
    "Doblar<br>"
   ]
  },
  {
   "cell_type": "code",
   "execution_count": 18,
   "metadata": {},
   "outputs": [],
   "source": [
    "class Vehiculo: # atributos\n",
    "    def __init__ (self, color, tipo, cilindrada):\n",
    "        self.color = color\n",
    "        self.tipo = tipo\n",
    "        self.cilindrada = cilindrada\n",
    "        self.velocidad = 0\n",
    "        self.direccion = 90 # derecha izquierda\n",
    "    \n",
    "    def acelerar(self, vel): # metodos\n",
    "        self.velocidad += vel\n",
    "\n",
    "    def frenar(self, vel): # metodos\n",
    "        self.frenar -= vel\n",
    "\n",
    "    def doblar_derecha(self, grados): # metodos\n",
    "        self.direccion += grados\n",
    "\n",
    "    def doblar_izquierda(self, grados): # metodos\n",
    "        self.direccion -= grados\n"
   ]
  },
  {
   "attachments": {},
   "cell_type": "markdown",
   "metadata": {},
   "source": [
    "3) Instanciar 3 objetos de la clase vehículo y ejecutar sus métodos, probar luego el resultado"
   ]
  },
  {
   "cell_type": "code",
   "execution_count": 19,
   "metadata": {},
   "outputs": [],
   "source": [
    "auto1 = Vehiculo(\"azul\", \"auto\", \"2.0\")\n",
    "auto2 = Vehiculo(\"verde\", \"moto\", \"1.1\")\n",
    "auto3 = Vehiculo(\"Gris\", \"camion\", \"5.2\")"
   ]
  },
  {
   "cell_type": "code",
   "execution_count": 20,
   "metadata": {},
   "outputs": [],
   "source": [
    "auto1.acelerar(40)\n",
    "auto2.acelerar(60)\n",
    "auto3.acelerar(80)\n",
    "\n",
    "auto1.doblar_derecha(98)\n",
    "auto2.doblar_derecha(120)\n",
    "auto3.doblar_izquierda(3)"
   ]
  },
  {
   "cell_type": "code",
   "execution_count": 14,
   "metadata": {},
   "outputs": [
    {
     "data": {
      "text/plain": [
       "<__main__.Vehiculo at 0x10c4e4f10>"
      ]
     },
     "execution_count": 14,
     "metadata": {},
     "output_type": "execute_result"
    }
   ],
   "source": [
    "auto1"
   ]
  },
  {
   "attachments": {},
   "cell_type": "markdown",
   "metadata": {},
   "source": [
    "4) Agregar a la clase Vehiculo, un método que muestre su estado, es decir, a que velocidad se encuentra y su dirección. Y otro método que muestre color, tipo y cilindrada"
   ]
  },
  {
   "cell_type": "code",
   "execution_count": 30,
   "metadata": {},
   "outputs": [],
   "source": [
    "class Vehiculo: # atributos\n",
    "    def __init__ (self, color, tipo, cilindrada):\n",
    "        self.color = color\n",
    "        self.tipo = tipo\n",
    "        self.cilindrada = cilindrada\n",
    "        self.velocidad = 0\n",
    "        self.direccion = 90 # derecha izquierda\n",
    "        self.orientacion = \"centro\"\n",
    "    \n",
    "    def acelerar(self, vel): # metodos\n",
    "        self.velocidad += vel\n",
    "\n",
    "    def frenar(self, vel): # metodos\n",
    "        self.frenar -= vel\n",
    "\n",
    "    def doblar_derecha(self, grados): # metodos\n",
    "        self.direccion += grados\n",
    "\n",
    "    def doblar_izquierda(self, grados): # metodos\n",
    "        self.direccion -= grados\n",
    "\n",
    "    def mostrar_estado(self, orientacion):\n",
    "        if self.direccion > 90:\n",
    "            self.orientacion = \"Derecha\"\n",
    "        else:\n",
    "            self.orientacion = \"Izquierda\"\n",
    "        print(f\"Velocidad {self.velocidad}, direccion {self.orientacion}\" )\n",
    "    \n",
    "    def mostrar_caracteristicas(self):\n",
    "        print(f\"El color: {self.color}, Tipo: {self.tipo}, cilindrada {self.cilindrada} \")"
   ]
  },
  {
   "cell_type": "code",
   "execution_count": 31,
   "metadata": {},
   "outputs": [],
   "source": [
    "auto1 = Vehiculo(\"azul\", \"auto\", \"2.0\")\n",
    "auto2 = Vehiculo(\"verde\", \"moto\", \"1.1\")\n",
    "auto3 = Vehiculo(\"Gris\", \"camion\", \"5.2\")"
   ]
  },
  {
   "cell_type": "code",
   "execution_count": 32,
   "metadata": {},
   "outputs": [],
   "source": [
    "auto1.acelerar(40)\n",
    "auto2.acelerar(60)\n",
    "auto3.acelerar(80)\n",
    "\n",
    "auto1.doblar_derecha(98)\n",
    "auto2.doblar_derecha(120)\n",
    "auto3.doblar_izquierda(3)"
   ]
  },
  {
   "cell_type": "code",
   "execution_count": 33,
   "metadata": {},
   "outputs": [
    {
     "ename": "TypeError",
     "evalue": "Vehiculo.mostrar_estado() missing 1 required positional argument: 'orientacion'",
     "output_type": "error",
     "traceback": [
      "\u001b[0;31m---------------------------------------------------------------------------\u001b[0m",
      "\u001b[0;31mTypeError\u001b[0m                                 Traceback (most recent call last)",
      "Cell \u001b[0;32mIn[33], line 1\u001b[0m\n\u001b[0;32m----> 1\u001b[0m \u001b[43mauto1\u001b[49m\u001b[38;5;241;43m.\u001b[39;49m\u001b[43mmostrar_estado\u001b[49m\u001b[43m(\u001b[49m\u001b[43m)\u001b[49m\n\u001b[1;32m      2\u001b[0m auto2\u001b[38;5;241m.\u001b[39mmostrar_caracteristicas()\n",
      "\u001b[0;31mTypeError\u001b[0m: Vehiculo.mostrar_estado() missing 1 required positional argument: 'orientacion'"
     ]
    }
   ],
   "source": [
    "auto1.mostrar_estado()\n",
    "auto2.mostrar_caracteristicas()\n"
   ]
  },
  {
   "attachments": {},
   "cell_type": "markdown",
   "metadata": {},
   "source": [
    "5) Crear una clase que permita utilizar las funciones creadas en la práctica del módulo 7<br>\n",
    "Verificar Primo<br>\n",
    "Valor modal<br>\n",
    "Conversión grados<br>\n",
    "Factorial<br>"
   ]
  },
  {
   "cell_type": "code",
   "execution_count": 91,
   "metadata": {},
   "outputs": [],
   "source": [
    "class Herramientas: \n",
    "    def __init__(self) -> None:\n",
    "        pass\n",
    "\n",
    "def verifica_primo(nro):\n",
    "    es_primo = True\n",
    "    for i in range(2, nro):\n",
    "        if nro % i == 0:\n",
    "            es_primo = False\n",
    "            break\n",
    "    return es_primo\n",
    "\n",
    "def valor_modal(self, lista):\n",
    "    lista_unicos = []\n",
    "    lista_repeticiones = []\n",
    "    if len(lista) == 0:\n",
    "        return None\n",
    "    for elemento in lista:\n",
    "        if elemento in lista_unicos:\n",
    "            i = lista_unicos.index(elemento)\n",
    "            lista_repeticiones[i] += 1\n",
    "        else:\n",
    "            lista_unicos.append(elemento)\n",
    "            lista_repeticiones.append(1)\n",
    "    moda = lista_unicos[0]\n",
    "    maximo = lista_repeticiones[0]\n",
    "    for i, elemento in enumerate(lista_unicos):\n",
    "        if lista_repeticiones[i] > maximo:\n",
    "            moda = lista_unicos[i]\n",
    "            maximo = lista_repeticiones[i]\n",
    "    return moda, maximo\n",
    "\n",
    "\n",
    "def conversion_grados(self,  valor, origen, destino):\n",
    "    if (origen == 'celsius'):\n",
    "        if (destino == 'celsius'):\n",
    "            valor_destino = valor\n",
    "        elif (destino == 'farenheit'):\n",
    "            valor_destino = (valor * 9 / 5) + 32\n",
    "        elif (destino == 'kelvin'):\n",
    "            valor_destino = valor + 273.15\n",
    "        else:\n",
    "            print('Parámetro de Destino incorrecto')\n",
    "    elif (origen == 'farenheit'):\n",
    "        if (destino == 'celsius'):\n",
    "            valor_destino = (valor - 32) * 5 / 9\n",
    "        elif (destino == 'farenheit'):\n",
    "            valor_destino = valor\n",
    "        elif (destino == 'kelvin'):\n",
    "            valor_destino = ((valor - 32) * 5 / 9) + 273.15\n",
    "        else:\n",
    "            print('Parámetro de Destino incorrecto')\n",
    "    elif (origen == 'kelvin'):\n",
    "        if (destino == 'celsius'):\n",
    "            valor_destino = valor - 273.15\n",
    "        elif (destino == 'farenheit'):\n",
    "            valor_destino = ((valor - 273.15) * 9 / 5) + 32\n",
    "        elif (destino == 'kelvin'):\n",
    "            valor_destino = valor\n",
    "        else:\n",
    "            print('Parámetro de Destino incorrecto')\n",
    "    else:\n",
    "        print('Parámetro de Origen incorrecto')\n",
    "    return valor_destino\n",
    "\n",
    "\n",
    "def factorial(self, num : int): # recursividad La funcion se llama dentro de la funcion\n",
    "    if num < 0:\n",
    "        return \" Ingrese un numero positivo\"\n",
    "    if num <= 1:\n",
    "        return 1\n",
    "    num = num * self.factorial(num -1)\n",
    "    return num"
   ]
  },
  {
   "attachments": {},
   "cell_type": "markdown",
   "metadata": {},
   "source": [
    "6) Probar las funciones incorporadas en la clase del punto 5"
   ]
  },
  {
   "cell_type": "code",
   "execution_count": 84,
   "metadata": {},
   "outputs": [],
   "source": [
    "ivan = Herramientas()"
   ]
  },
  {
   "cell_type": "code",
   "execution_count": 85,
   "metadata": {},
   "outputs": [
    {
     "ename": "AttributeError",
     "evalue": "'Herramientas' object has no attribute 'verifica_primo'",
     "output_type": "error",
     "traceback": [
      "\u001b[0;31m---------------------------------------------------------------------------\u001b[0m",
      "\u001b[0;31mAttributeError\u001b[0m                            Traceback (most recent call last)",
      "Cell \u001b[0;32mIn[85], line 1\u001b[0m\n\u001b[0;32m----> 1\u001b[0m \u001b[43mivan\u001b[49m\u001b[38;5;241;43m.\u001b[39;49m\u001b[43mverifica_primo\u001b[49m(\u001b[38;5;241m7\u001b[39m)\n",
      "\u001b[0;31mAttributeError\u001b[0m: 'Herramientas' object has no attribute 'verifica_primo'"
     ]
    }
   ],
   "source": [
    "ivan.verifica_primo(7)"
   ]
  },
  {
   "cell_type": "code",
   "execution_count": 81,
   "metadata": {},
   "outputs": [],
   "source": [
    "ivan = Herramientas()"
   ]
  },
  {
   "cell_type": "code",
   "execution_count": 86,
   "metadata": {},
   "outputs": [
    {
     "ename": "AttributeError",
     "evalue": "'Herramientas' object has no attribute 'verifica_primo'",
     "output_type": "error",
     "traceback": [
      "\u001b[0;31m---------------------------------------------------------------------------\u001b[0m",
      "\u001b[0;31mAttributeError\u001b[0m                            Traceback (most recent call last)",
      "Cell \u001b[0;32mIn[86], line 1\u001b[0m\n\u001b[0;32m----> 1\u001b[0m \u001b[43mivan\u001b[49m\u001b[38;5;241;43m.\u001b[39;49m\u001b[43mverifica_primo\u001b[49m(\u001b[38;5;241m8\u001b[39m)\n",
      "\u001b[0;31mAttributeError\u001b[0m: 'Herramientas' object has no attribute 'verifica_primo'"
     ]
    }
   ],
   "source": [
    "ivan.verifica_primo(8)"
   ]
  },
  {
   "cell_type": "code",
   "execution_count": 87,
   "metadata": {},
   "outputs": [
    {
     "ename": "AttributeError",
     "evalue": "'Herramientas' object has no attribute 'valor_modal'",
     "output_type": "error",
     "traceback": [
      "\u001b[0;31m---------------------------------------------------------------------------\u001b[0m",
      "\u001b[0;31mAttributeError\u001b[0m                            Traceback (most recent call last)",
      "Cell \u001b[0;32mIn[87], line 2\u001b[0m\n\u001b[1;32m      1\u001b[0m lista \u001b[38;5;241m=\u001b[39m [\u001b[38;5;241m2\u001b[39m, \u001b[38;5;241m3\u001b[39m, \u001b[38;5;241m5\u001b[39m, \u001b[38;5;241m6\u001b[39m,\u001b[38;5;241m6\u001b[39m,\u001b[38;5;241m6\u001b[39m,\u001b[38;5;241m7\u001b[39m,\u001b[38;5;241m7\u001b[39m,\u001b[38;5;241m7\u001b[39m,\u001b[38;5;241m7\u001b[39m,\u001b[38;5;241m8\u001b[39m,\u001b[38;5;241m8\u001b[39m]\n\u001b[0;32m----> 2\u001b[0m \u001b[38;5;28mprint\u001b[39m(\u001b[43mivan\u001b[49m\u001b[38;5;241;43m.\u001b[39;49m\u001b[43mvalor_modal\u001b[49m(lista))\n",
      "\u001b[0;31mAttributeError\u001b[0m: 'Herramientas' object has no attribute 'valor_modal'"
     ]
    }
   ],
   "source": [
    "lista = [2, 3, 5, 6,6,6,7,7,7,7,8,8]\n",
    "print(ivan.valor_modal(lista))"
   ]
  },
  {
   "cell_type": "code",
   "execution_count": 88,
   "metadata": {},
   "outputs": [
    {
     "ename": "AttributeError",
     "evalue": "'Herramientas' object has no attribute 'conversion_grados'",
     "output_type": "error",
     "traceback": [
      "\u001b[0;31m---------------------------------------------------------------------------\u001b[0m",
      "\u001b[0;31mAttributeError\u001b[0m                            Traceback (most recent call last)",
      "Cell \u001b[0;32mIn[88], line 1\u001b[0m\n\u001b[0;32m----> 1\u001b[0m \u001b[43mivan\u001b[49m\u001b[38;5;241;43m.\u001b[39;49m\u001b[43mconversion_grados\u001b[49m(\u001b[38;5;241m26\u001b[39m, \u001b[38;5;124m\"\u001b[39m\u001b[38;5;124mcelcius\u001b[39m\u001b[38;5;124m\"\u001b[39m, \u001b[38;5;124m\"\u001b[39m\u001b[38;5;124mfarenheit\u001b[39m\u001b[38;5;124m\"\u001b[39m)\n",
      "\u001b[0;31mAttributeError\u001b[0m: 'Herramientas' object has no attribute 'conversion_grados'"
     ]
    }
   ],
   "source": [
    "ivan.conversion_grados(26, \"celcius\", \"farenheit\")"
   ]
  },
  {
   "cell_type": "code",
   "execution_count": 89,
   "metadata": {},
   "outputs": [
    {
     "ename": "AttributeError",
     "evalue": "'Herramientas' object has no attribute 'factorial'",
     "output_type": "error",
     "traceback": [
      "\u001b[0;31m---------------------------------------------------------------------------\u001b[0m",
      "\u001b[0;31mAttributeError\u001b[0m                            Traceback (most recent call last)",
      "Cell \u001b[0;32mIn[89], line 1\u001b[0m\n\u001b[0;32m----> 1\u001b[0m \u001b[43mivan\u001b[49m\u001b[38;5;241;43m.\u001b[39;49m\u001b[43mfactorial\u001b[49m(\u001b[38;5;241m6\u001b[39m)\n",
      "\u001b[0;31mAttributeError\u001b[0m: 'Herramientas' object has no attribute 'factorial'"
     ]
    }
   ],
   "source": [
    "ivan.factorial(6)"
   ]
  },
  {
   "attachments": {},
   "cell_type": "markdown",
   "metadata": {},
   "source": [
    "7) Es necesario que la clase creada en el punto 5 contenga una lista, sobre la cual se apliquen las funciones incorporadas"
   ]
  },
  {
   "cell_type": "code",
   "execution_count": 106,
   "metadata": {},
   "outputs": [
    {
     "ename": "SyntaxError",
     "evalue": "unterminated string literal (detected at line 15) (3401138085.py, line 15)",
     "output_type": "error",
     "traceback": [
      "\u001b[0;36m  Cell \u001b[0;32mIn[106], line 15\u001b[0;36m\u001b[0m\n\u001b[0;31m    print(f\"{elemento}, de origen a destino, es\"{self.__conversion_grados(elemento, origen, destino)}\")\u001b[0m\n\u001b[0m                                                                                                     ^\u001b[0m\n\u001b[0;31mSyntaxError\u001b[0m\u001b[0;31m:\u001b[0m unterminated string literal (detected at line 15)\n"
     ]
    }
   ],
   "source": [
    "class Herramientas: \n",
    "    def __init__(self, lista_num):\n",
    "        self.lista_num = lista_num\n",
    "\n",
    "    def verifica_primo(self):\n",
    "        for elemento in self.lista_num:\n",
    "            if (self.__verifica_primo(elemento)):\n",
    "                print(f\"{elemento} es un numero primo\")\n",
    "            else:\n",
    "                print(f\"{elemento} no es un numero primo\")\n",
    "        \n",
    "\n",
    "def conversion_grados(self, origen, destino):\n",
    "    for elemento in self.lista_num:\n",
    "        print(f\"{elemento}, de origen a destino, es\"{self.__conversion_grados(elemento, origen, destino)}\")\n",
    "\n",
    "def factorial(self): # recursividad La funcion se llama dentro de la funcion\n",
    "    for elemento in self.lista_num:\n",
    "        print(f\"el factorial {elemento}, es {self.__factorial(elemento)}\")\n",
    "\n",
    "\n",
    "\n",
    "def __verifica_primo(nro):\n",
    "    es_primo = True\n",
    "    for i in range(2, nro):\n",
    "        if nro % i == 0:\n",
    "            es_primo = False\n",
    "            break\n",
    "    return es_primo\n",
    "\n",
    "\n",
    "\n",
    "def valor_modal(self, lista):\n",
    "    lista_unicos = []\n",
    "    lista_repeticiones = []\n",
    "    if len(lista) == 0:\n",
    "        return None\n",
    "    for elemento in lista:\n",
    "        if elemento in lista_unicos:\n",
    "            i = lista_unicos.index(elemento)\n",
    "            lista_repeticiones[i] += 1\n",
    "        else:\n",
    "            lista_unicos.append(elemento)\n",
    "            lista_repeticiones.append(1)\n",
    "    moda = lista_unicos[0]\n",
    "    maximo = lista_repeticiones[0]\n",
    "    for i, elemento in enumerate(lista_unicos):\n",
    "        if lista_repeticiones[i] > maximo:\n",
    "            moda = lista_unicos[i]\n",
    "            maximo = lista_repeticiones[i]\n",
    "    return moda, maximo\n",
    "\n",
    "\n",
    "def __conversion_grados(self,  valor:int, origen, destino):\n",
    "    if (origen == 'celsius'):\n",
    "        if (destino == 'celsius'):\n",
    "            valor_destino = valor\n",
    "        elif (destino == 'farenheit'):\n",
    "            valor_destino = (valor * 9 / 5) + 32\n",
    "        elif (destino == 'kelvin'):\n",
    "            valor_destino = valor + 273.15\n",
    "        else:\n",
    "            print('Parámetro de Destino incorrecto')\n",
    "    elif (origen == 'farenheit'):\n",
    "        if (destino == 'celsius'):\n",
    "            valor_destino = (valor - 32) * 5 / 9\n",
    "        elif (destino == 'farenheit'):\n",
    "            valor_destino = valor\n",
    "        elif (destino == 'kelvin'):\n",
    "            valor_destino = ((valor - 32) * 5 / 9) + 273.15\n",
    "        else:\n",
    "            print('Parámetro de Destino incorrecto')\n",
    "    elif (origen == 'kelvin'):\n",
    "        if (destino == 'celsius'):\n",
    "            valor_destino = valor - 273.15   \n",
    "        elif (destino == 'farenheit'):\n",
    "            valor_destino = ((valor - 273.15) * 9 / 5) + 32\n",
    "        elif (destino == 'kelvin'):\n",
    "            valor_destino = valor\n",
    "        else:\n",
    "            print('Parámetro de Destino incorrecto')\n",
    "    else:\n",
    "        print('Parámetro de Origen incorrecto')\n",
    "    return valor_destino\n",
    "\n",
    "\n",
    "def __factorial(self, num : int): # recursividad La funcion se llama dentro de la funcion\n",
    "    if num < 0:\n",
    "        return \" Ingrese un numero positivo\"\n",
    "    if num <= 1:\n",
    "        return 1\n",
    "    num = num * self.factorial(num -1)\n",
    "    return num"
   ]
  },
  {
   "cell_type": "code",
   "execution_count": 107,
   "metadata": {},
   "outputs": [
    {
     "ename": "TypeError",
     "evalue": "Herramientas.__init__() takes 1 positional argument but 2 were given",
     "output_type": "error",
     "traceback": [
      "\u001b[0;31m---------------------------------------------------------------------------\u001b[0m",
      "\u001b[0;31mTypeError\u001b[0m                                 Traceback (most recent call last)",
      "Cell \u001b[0;32mIn[107], line 2\u001b[0m\n\u001b[1;32m      1\u001b[0m lista \u001b[38;5;241m=\u001b[39m [\u001b[38;5;241m2\u001b[39m,\u001b[38;5;241m3\u001b[39m,\u001b[38;5;241m4\u001b[39m,\u001b[38;5;241m5\u001b[39m,\u001b[38;5;241m6\u001b[39m,\u001b[38;5;241m7\u001b[39m,\u001b[38;5;241m7\u001b[39m,\u001b[38;5;241m8\u001b[39m,\u001b[38;5;241m8\u001b[39m,\u001b[38;5;241m8\u001b[39m,\u001b[38;5;241m8\u001b[39m,\u001b[38;5;241m8\u001b[39m]\n\u001b[0;32m----> 2\u001b[0m ivan \u001b[38;5;241m=\u001b[39m \u001b[43mHerramientas\u001b[49m\u001b[43m(\u001b[49m\u001b[43mlista\u001b[49m\u001b[43m)\u001b[49m\n",
      "\u001b[0;31mTypeError\u001b[0m: Herramientas.__init__() takes 1 positional argument but 2 were given"
     ]
    }
   ],
   "source": [
    "lista = [2,3,4,5,6,7,7,8,8,8,8,8]\n",
    "ivan = Herramientas(lista)\n"
   ]
  },
  {
   "cell_type": "code",
   "execution_count": 108,
   "metadata": {},
   "outputs": [
    {
     "ename": "AttributeError",
     "evalue": "'Herramientas' object has no attribute 'conversion_grados'",
     "output_type": "error",
     "traceback": [
      "\u001b[0;31m---------------------------------------------------------------------------\u001b[0m",
      "\u001b[0;31mAttributeError\u001b[0m                            Traceback (most recent call last)",
      "Cell \u001b[0;32mIn[108], line 1\u001b[0m\n\u001b[0;32m----> 1\u001b[0m \u001b[43mivan\u001b[49m\u001b[38;5;241;43m.\u001b[39;49m\u001b[43mconversion_grados\u001b[49m(\u001b[38;5;124m\"\u001b[39m\u001b[38;5;124mcelcius\u001b[39m\u001b[38;5;124m\"\u001b[39m , \u001b[38;5;124m\"\u001b[39m\u001b[38;5;124mkelvin\u001b[39m\u001b[38;5;124m\"\u001b[39m)\n",
      "\u001b[0;31mAttributeError\u001b[0m: 'Herramientas' object has no attribute 'conversion_grados'"
     ]
    }
   ],
   "source": [
    "ivan.conversion_grados(\"celcius\" , \"kelvin\")"
   ]
  },
  {
   "cell_type": "code",
   "execution_count": 98,
   "metadata": {},
   "outputs": [
    {
     "ename": "AttributeError",
     "evalue": "'Herramientas' object has no attribute 'verifica_primo'",
     "output_type": "error",
     "traceback": [
      "\u001b[0;31m---------------------------------------------------------------------------\u001b[0m",
      "\u001b[0;31mAttributeError\u001b[0m                            Traceback (most recent call last)",
      "Cell \u001b[0;32mIn[98], line 1\u001b[0m\n\u001b[0;32m----> 1\u001b[0m \u001b[43mivan\u001b[49m\u001b[38;5;241;43m.\u001b[39;49m\u001b[43mverifica_primo\u001b[49m()\n",
      "\u001b[0;31mAttributeError\u001b[0m: 'Herramientas' object has no attribute 'verifica_primo'"
     ]
    }
   ],
   "source": [
    "ivan.verifica_primo()"
   ]
  },
  {
   "attachments": {},
   "cell_type": "markdown",
   "metadata": {},
   "source": [
    "8) Crear un archivo .py aparte y ubicar allí la clase generada en el punto anterior. Luego realizar la importación del módulo y probar alguna de sus funciones"
   ]
  },
  {
   "cell_type": "code",
   "execution_count": 103,
   "metadata": {},
   "outputs": [
    {
     "ename": "AttributeError",
     "evalue": "module 'herramientas' has no attribute 'Ferramientas'",
     "output_type": "error",
     "traceback": [
      "\u001b[0;31m---------------------------------------------------------------------------\u001b[0m",
      "\u001b[0;31mAttributeError\u001b[0m                            Traceback (most recent call last)",
      "Cell \u001b[0;32mIn[103], line 3\u001b[0m\n\u001b[1;32m      1\u001b[0m \u001b[38;5;28;01mimport\u001b[39;00m \u001b[38;5;21;01mherramientas\u001b[39;00m \u001b[38;5;28;01mas\u001b[39;00m \u001b[38;5;21;01mher\u001b[39;00m\n\u001b[0;32m----> 3\u001b[0m bb \u001b[38;5;241m=\u001b[39m \u001b[43mher\u001b[49m\u001b[38;5;241;43m.\u001b[39;49m\u001b[43mFerramientas\u001b[49m(lista)\n",
      "\u001b[0;31mAttributeError\u001b[0m: module 'herramientas' has no attribute 'Ferramientas'"
     ]
    }
   ],
   "source": [
    "import herramientas as her\n",
    "\n",
    "bb = her.Ferramientas(lista)"
   ]
  },
  {
   "cell_type": "code",
   "execution_count": 101,
   "metadata": {},
   "outputs": [
    {
     "name": "stdout",
     "output_type": "stream",
     "text": [
      "El factorial de  2 es 2\n",
      "El factorial de  3 es 6\n",
      "El factorial de  5 es 120\n",
      "El factorial de  6 es 720\n",
      "El factorial de  6 es 720\n",
      "El factorial de  6 es 720\n",
      "El factorial de  7 es 5040\n",
      "El factorial de  7 es 5040\n",
      "El factorial de  7 es 5040\n",
      "El factorial de  7 es 5040\n",
      "El factorial de  8 es 40320\n",
      "El factorial de  8 es 40320\n"
     ]
    }
   ],
   "source": [
    "bb.factorial()"
   ]
  },
  {
   "cell_type": "code",
   "execution_count": null,
   "metadata": {},
   "outputs": [],
   "source": []
  }
 ],
 "metadata": {
  "interpreter": {
   "hash": "c85384e4cb51c8b72350f3a8712cc8351fdc3955e32a27f9b60c6242ab125f01"
  },
  "kernelspec": {
   "display_name": "Python 3 (ipykernel)",
   "language": "python",
   "name": "python3"
  },
  "language_info": {
   "codemirror_mode": {
    "name": "ipython",
    "version": 3
   },
   "file_extension": ".py",
   "mimetype": "text/x-python",
   "name": "python",
   "nbconvert_exporter": "python",
   "pygments_lexer": "ipython3",
   "version": "3.11.8"
  }
 },
 "nbformat": 4,
 "nbformat_minor": 4
}
